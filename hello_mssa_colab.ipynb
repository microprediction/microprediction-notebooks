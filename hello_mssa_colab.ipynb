{
  "nbformat": 4,
  "nbformat_minor": 0,
  "metadata": {
    "colab": {
      "name": "hello_mssa_colab.ipynb",
      "provenance": [],
      "include_colab_link": true
    },
    "kernelspec": {
      "name": "python3",
      "display_name": "Python 3"
    },
    "language_info": {
      "name": "python"
    }
  },
  "cells": [
    {
      "cell_type": "markdown",
      "metadata": {
        "id": "view-in-github",
        "colab_type": "text"
      },
      "source": [
        "<a href=\"https://colab.research.google.com/github/microprediction/microprediction-notebooks/blob/main/hello_mssa_colab.ipynb\" target=\"_parent\"><img src=\"https://colab.research.google.com/assets/colab-badge.svg\" alt=\"Open In Colab\"/></a>"
      ]
    },
    {
      "cell_type": "code",
      "execution_count": 8,
      "metadata": {
        "id": "4nM-e8zlsIDC"
      },
      "outputs": [],
      "source": [
        "import logging, sys\n",
        "logging.disable(sys.maxsize)"
      ]
    },
    {
      "cell_type": "code",
      "source": [
        "!pip install microprediction"
      ],
      "metadata": {
        "id": "Tdy9ExKQsNyP"
      },
      "execution_count": null,
      "outputs": []
    },
    {
      "cell_type": "code",
      "source": [
        "!pip install git+https://github.com/kieferk/pymssa.git"
      ],
      "metadata": {
        "id": "jr7VbmmaslX7"
      },
      "execution_count": null,
      "outputs": []
    },
    {
      "cell_type": "code",
      "source": [
        "from microprediction import MicroReader\n",
        "mr = MicroReader()\n",
        "YS = mr.get_lagged_values(name='emojitracker-twitter-winking_face.json')[0:1000]\n",
        "YS[:5]"
      ],
      "metadata": {
        "colab": {
          "base_uri": "https://localhost:8080/"
        },
        "id": "dlVEGntPscfn",
        "outputId": "4984cd94-3e7c-4986-9260-0a251bb85de0"
      },
      "execution_count": 11,
      "outputs": [
        {
          "output_type": "execute_result",
          "data": {
            "text/plain": [
              "[97.0, 122.0, 123.0, 102.0, 101.0]"
            ]
          },
          "metadata": {},
          "execution_count": 11
        }
      ]
    },
    {
      "cell_type": "code",
      "source": [
        "from pymssa import MSSA\n",
        "import pandas as pd \n",
        "import datetime \n",
        "import numpy as np \n",
        "import warnings\n",
        "warnings.filterwarnings('ignore')\n",
        "\n",
        "def run(ys):\n",
        "    burnin = 950\n",
        "\n",
        "    def next_value(ys):\n",
        "        mssa = MSSA(n_components='svht',\n",
        "            window_size=None,\n",
        "            verbose=True)\n",
        "        mssa.fit(pd.DataFrame(ys))\n",
        "        y_hat = mssa.forecast(1).squeeze()\n",
        "        return y_hat\n",
        "\n",
        "    y_hats = list()\n",
        "    for t in range(len(ys)):\n",
        "        if t > burnin:\n",
        "            y_hat = next_value(ys[:t])\n",
        "        elif t >= 1:\n",
        "            y_hat = ys[t - 1]\n",
        "        else:\n",
        "            y_hat = 0\n",
        "        y_hats.append(y_hat)\n",
        "    return y_hats\n",
        "XS = run(YS)"
      ],
      "metadata": {
        "id": "NTlX1fGLsgC5"
      },
      "execution_count": null,
      "outputs": []
    },
    {
      "cell_type": "code",
      "source": [
        "import matplotlib.pyplot as plt\n",
        "plt.plot(YS[950:],'*b')\n",
        "plt.plot(XS[950:],'g')"
      ],
      "metadata": {
        "colab": {
          "base_uri": "https://localhost:8080/",
          "height": 282
        },
        "id": "9otbiCbfNP2C",
        "outputId": "6441b361-f96f-4150-b974-c5157f14390c"
      },
      "execution_count": 13,
      "outputs": [
        {
          "output_type": "execute_result",
          "data": {
            "text/plain": [
              "[<matplotlib.lines.Line2D at 0x7f8d49cf8650>]"
            ]
          },
          "metadata": {},
          "execution_count": 13
        },
        {
          "output_type": "display_data",
          "data": {
            "image/png": "[encoded data removed]",
            "text/plain": [
              "<Figure size 432x288 with 1 Axes>"
            ]
          },
          "metadata": {
            "needs_background": "light"
          }
        }
      ]
    },
    {
      "cell_type": "code",
      "source": [
        ""
      ],
      "metadata": {
        "id": "xU0oq4s9NUqS"
      },
      "execution_count": null,
      "outputs": []
    }
  ]
}