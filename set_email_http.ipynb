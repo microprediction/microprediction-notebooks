{
  "nbformat": 4,
  "nbformat_minor": 0,
  "metadata": {
    "colab": {
      "name": "set_email_http.ipynb",
      "provenance": [],
      "authorship_tag": "ABX9TyND7Tj2sbnkVRtwbMtBsCO1",
      "include_colab_link": true
    },
    "kernelspec": {
      "name": "python3",
      "display_name": "Python 3"
    }
  },
  "cells": [
    {
      "cell_type": "markdown",
      "metadata": {
        "id": "view-in-github",
        "colab_type": "text"
      },
      "source": [
        "<a href=\"https://colab.research.google.com/github/microprediction/microprediction-notebooks/blob/main/set_email_http.ipynb\" target=\"_parent\"><img src=\"https://colab.research.google.com/assets/colab-badge.svg\" alt=\"Open In Colab\"/></a>"
      ]
    },
    {
      "cell_type": "code",
      "metadata": {
        "id": "QCgJ1PzvDwfN"
      },
      "source": [
        "!pip install requests"
      ],
      "execution_count": null,
      "outputs": []
    },
    {
      "cell_type": "markdown",
      "metadata": {
        "id": "WunEp9GPsbic"
      },
      "source": [
        "### Add your email\n",
        "(best to do so directly for now. The next release of the microprediction client will add a set_email method) "
      ]
    },
    {
      "cell_type": "code",
      "metadata": {
        "colab": {
          "base_uri": "https://localhost:8080/"
        },
        "id": "0aD2bHABrXDK",
        "outputId": "8b1fc781-ab14-4831-eba2-11f408b52dea"
      },
      "source": [
        "import requests \n",
        "res = requests.put('http://devapi.microprediction.org/email/4c7b09f29b8b7eb580b48ada674142cd', params={'email': 'me@gmail.com'})\n",
        "res.json()"
      ],
      "execution_count": 10,
      "outputs": [
        {
          "output_type": "execute_result",
          "data": {
            "text/plain": [
              "0"
            ]
          },
          "metadata": {},
          "execution_count": 10
        }
      ]
    }
  ]
}