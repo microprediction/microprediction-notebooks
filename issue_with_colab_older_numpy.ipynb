{
  "nbformat": 4,
  "nbformat_minor": 0,
  "metadata": {
    "colab": {
      "name": "import_micro_testing.ipynb",
      "provenance": [],
      "authorship_tag": "ABX9TyNFE1HhI5BUpQgmKHBONlAJ",
      "include_colab_link": true
    },
    "kernelspec": {
      "name": "python3",
      "display_name": "Python 3"
    },
    "language_info": {
      "name": "python"
    }
  },
  "cells": [
    {
      "cell_type": "markdown",
      "metadata": {
        "id": "view-in-github",
        "colab_type": "text"
      },
      "source": [
        "<a href=\"https://colab.research.google.com/github/microprediction/microprediction-notebooks/blob/main/issue_with_colab_older_numpy.ipynb\" target=\"_parent\"><img src=\"https://colab.research.google.com/assets/colab-badge.svg\" alt=\"Open In Colab\"/></a>"
      ]
    },
    {
      "cell_type": "code",
      "metadata": {
        "colab": {
          "base_uri": "https://localhost:8080/"
        },
        "id": "MgOjFHiErTrC",
        "outputId": "7a110cd5-6f28-42e4-9b32-032522b3dc6c"
      },
      "source": [
        "!pip install microprediction\n",
        "!pip install --upgrade numpy # Try without this and it will fail"
      ],
      "execution_count": 1,
      "outputs": [
        {
          "output_type": "stream",
          "text": [
            "Requirement already up-to-date: numpy in /usr/local/lib/python3.7/dist-packages (1.20.2)\n"
          ],
          "name": "stdout"
        }
      ]
    },
    {
      "cell_type": "code",
      "metadata": {
        "id": "f08ldaT_rYD7"
      },
      "source": [
        "from microprediction import MicroWriter"
      ],
      "execution_count": 2,
      "outputs": []
    }
  ]
}